{
 "cells": [
  {
   "cell_type": "markdown",
   "metadata": {},
   "source": [
    "## Lab 3.1 \n",
    "\n"
   ]
  },
  {
   "cell_type": "code",
   "execution_count": 1,
   "metadata": {},
   "outputs": [],
   "source": [
    "import pandas as pd\n",
    "#1 . Đọc file \n",
    "path_stocks1=\"D:/17A2KHDL/Lab 3/DATA/stocks1.csv\"\n",
    "stocks1_df=pd.read_csv(path_stocks1)"
   ]
  },
  {
   "cell_type": "code",
   "execution_count": 2,
   "metadata": {},
   "outputs": [
    {
     "name": "stdout",
     "output_type": "stream",
     "text": [
      "5 dòng đầu tiên của DATAFRAME stock1_df:\n",
      "       date symbol     open     high      low    close   volume\n",
      "0  01-03-19   AMZN  1655.13  1674.26  1651.00  1671.73  4974877\n",
      "1  04-03-19   AMZN  1685.00  1709.43  1674.36  1696.17  6167358\n",
      "2  05-03-19   AMZN  1702.95  1707.80  1689.01  1692.43  3681522\n",
      "3  06-03-19   AMZN  1695.97      NaN      NaN  1668.95  3996001\n",
      "4  07-03-19   AMZN  1667.37  1669.75  1620.51  1625.95  4957017\n"
     ]
    }
   ],
   "source": [
    "#2 \n",
    "print (\"5 dòng đầu tiên của DATAFRAME stock1_df:\")\n",
    "print (stocks1_df.head())"
   ]
  },
  {
   "cell_type": "code",
   "execution_count": 3,
   "metadata": {},
   "outputs": [
    {
     "name": "stdout",
     "output_type": "stream",
     "text": [
      "\n",
      "Kiểu dữ liệu của mỗi cột:\n",
      "date       object\n",
      "symbol     object\n",
      "open      float64\n",
      "high      float64\n",
      "low       float64\n",
      "close     float64\n",
      "volume      int64\n",
      "dtype: object\n",
      "\n",
      "Thông tin tổng quan về stocks1:\n",
      "<class 'pandas.core.frame.DataFrame'>\n",
      "RangeIndex: 15 entries, 0 to 14\n",
      "Data columns (total 7 columns):\n",
      " #   Column  Non-Null Count  Dtype  \n",
      "---  ------  --------------  -----  \n",
      " 0   date    15 non-null     object \n",
      " 1   symbol  15 non-null     object \n",
      " 2   open    15 non-null     float64\n",
      " 3   high    13 non-null     float64\n",
      " 4   low     13 non-null     float64\n",
      " 5   close   15 non-null     float64\n",
      " 6   volume  15 non-null     int64  \n",
      "dtypes: float64(4), int64(1), object(2)\n",
      "memory usage: 972.0+ bytes\n"
     ]
    }
   ],
   "source": [
    "# 3. Hiển thị kiểu dữ liệu (dtype) của mỗi cột trong stocks1\n",
    "print(\"\\nKiểu dữ liệu của mỗi cột:\")\n",
    "print(stocks1_df.dtypes)\n",
    "\n",
    "# 4. Xem thông tin tổng quan (info) của stocks1\n",
    "print(\"\\nThông tin tổng quan về stocks1:\")\n",
    "stocks1_df.info()"
   ]
  },
  {
   "cell_type": "markdown",
   "metadata": {},
   "source": [
    "# Lab 3.2"
   ]
  },
  {
   "cell_type": "code",
   "execution_count": 4,
   "metadata": {},
   "outputs": [
    {
     "name": "stdout",
     "output_type": "stream",
     "text": [
      "\n",
      "Kiểm tra dữ liệu Null:\n",
      "date      0\n",
      "symbol    0\n",
      "open      0\n",
      "high      2\n",
      "low       2\n",
      "close     0\n",
      "volume    0\n",
      "dtype: int64\n"
     ]
    }
   ],
   "source": [
    "#1 \n",
    "print(\"\\nKiểm tra dữ liệu Null:\")\n",
    "print(stocks1_df.isnull().sum())"
   ]
  },
  {
   "cell_type": "code",
   "execution_count": 5,
   "metadata": {},
   "outputs": [
    {
     "data": {
      "text/plain": [
       "0     1674.260000\n",
       "1     1709.430000\n",
       "2     1707.800000\n",
       "3      943.511538\n",
       "4     1669.750000\n",
       "5      175.150000\n",
       "6      177.750000\n",
       "7      176.000000\n",
       "8      175.490000\n",
       "9      174.440000\n",
       "10    1142.970000\n",
       "11    1158.280000\n",
       "12     943.511538\n",
       "13    1167.570000\n",
       "14    1156.760000\n",
       "Name: high, dtype: float64"
      ]
     },
     "execution_count": 5,
     "metadata": {},
     "output_type": "execute_result"
    }
   ],
   "source": [
    "#2\n",
    "tb_high=stocks1_df['high'].mean()\n",
    "stocks1_df['high'].fillna(tb_high)"
   ]
  },
  {
   "cell_type": "code",
   "execution_count": 6,
   "metadata": {},
   "outputs": [
    {
     "name": "stdout",
     "output_type": "stream",
     "text": [
      "\n",
      "data frame sau khi thay thế dữ liệu null ở cột high:\n",
      "       date symbol     open     high      low    close   volume\n",
      "0  01-03-19   AMZN  1655.13  1674.26  1651.00  1671.73  4974877\n",
      "1  04-03-19   AMZN  1685.00  1709.43  1674.36  1696.17  6167358\n",
      "2  05-03-19   AMZN  1702.95  1707.80  1689.01  1692.43  3681522\n",
      "3  06-03-19   AMZN  1695.97      NaN      NaN  1668.95  3996001\n",
      "4  07-03-19   AMZN  1667.37  1669.75  1620.51  1625.95  4957017\n"
     ]
    }
   ],
   "source": [
    "# Hiển thị data frame sau khi thay thế dữ liệu null ở cột high\n",
    "print (\"\\ndata frame sau khi thay thế dữ liệu null ở cột high:\")\n",
    "print(stocks1_df.head())"
   ]
  },
  {
   "cell_type": "code",
   "execution_count": 7,
   "metadata": {},
   "outputs": [
    {
     "data": {
      "text/plain": [
       "0     1651.000000\n",
       "1     1674.360000\n",
       "2     1689.010000\n",
       "3      926.775385\n",
       "4     1620.510000\n",
       "5      172.890000\n",
       "6      173.970000\n",
       "7      174.540000\n",
       "8      173.940000\n",
       "9      172.020000\n",
       "10    1124.750000\n",
       "11    1130.690000\n",
       "12     926.775385\n",
       "13    1155.490000\n",
       "14    1134.910000\n",
       "Name: low, dtype: float64"
      ]
     },
     "execution_count": 7,
     "metadata": {},
     "output_type": "execute_result"
    }
   ],
   "source": [
    "# 3 \n",
    "tb_low=stocks1_df['low'].mean()\n",
    "stocks1_df['low'].fillna(tb_low)\n"
   ]
  },
  {
   "cell_type": "code",
   "execution_count": 8,
   "metadata": {},
   "outputs": [
    {
     "name": "stdout",
     "output_type": "stream",
     "text": [
      "\n",
      " Kiểm tra lại dữ liệu null sau khi xử lí :\n",
      "2\n"
     ]
    }
   ],
   "source": [
    "print(\"\\n Kiểm tra lại dữ liệu null sau khi xử lí :\")\n",
    "after_kt_null=stocks1_df['low'].isnull().sum()\n",
    "print(after_kt_null)"
   ]
  },
  {
   "cell_type": "code",
   "execution_count": 9,
   "metadata": {},
   "outputs": [
    {
     "name": "stdout",
     "output_type": "stream",
     "text": [
      "\n",
      " Kiểm tra lại dữ liệu null sau khi xử lí :\n",
      "date      0\n",
      "symbol    0\n",
      "open      0\n",
      "high      2\n",
      "low       2\n",
      "close     0\n",
      "volume    0\n",
      "dtype: int64\n"
     ]
    }
   ],
   "source": [
    "print(\"\\n Kiểm tra lại dữ liệu null sau khi xử lí :\")\n",
    "after_kt_null=stocks1_df.isnull().sum()\n",
    "print(after_kt_null)"
   ]
  },
  {
   "cell_type": "code",
   "execution_count": 10,
   "metadata": {},
   "outputs": [
    {
     "name": "stdout",
     "output_type": "stream",
     "text": [
      "\n",
      "Thông tin tổng quan sau khi xử lý dữ liệu Null:\n",
      "<class 'pandas.core.frame.DataFrame'>\n",
      "RangeIndex: 15 entries, 0 to 14\n",
      "Data columns (total 7 columns):\n",
      " #   Column  Non-Null Count  Dtype  \n",
      "---  ------  --------------  -----  \n",
      " 0   date    15 non-null     object \n",
      " 1   symbol  15 non-null     object \n",
      " 2   open    15 non-null     float64\n",
      " 3   high    13 non-null     float64\n",
      " 4   low     13 non-null     float64\n",
      " 5   close   15 non-null     float64\n",
      " 6   volume  15 non-null     int64  \n",
      "dtypes: float64(4), int64(1), object(2)\n",
      "memory usage: 972.0+ bytes\n"
     ]
    }
   ],
   "source": [
    "#4\n",
    "print(\"\\nThông tin tổng quan sau khi xử lý dữ liệu Null:\")\n",
    "stocks1_df.info()"
   ]
  },
  {
   "cell_type": "markdown",
   "metadata": {},
   "source": [
    "## Lab 3.3"
   ]
  },
  {
   "cell_type": "code",
   "execution_count": 11,
   "metadata": {},
   "outputs": [
    {
     "name": "stdout",
     "output_type": "stream",
     "text": [
      "data frame sau khi gộp :\n",
      "       date symbol     open     high      low    close   volume\n",
      "0  01-03-19   AMZN  1655.13  1674.26  1651.00  1671.73  4974877\n",
      "1  04-03-19   AMZN  1685.00  1709.43  1674.36  1696.17  6167358\n",
      "2  05-03-19   AMZN  1702.95  1707.80  1689.01  1692.43  3681522\n",
      "3  06-03-19   AMZN  1695.97      NaN      NaN  1668.95  3996001\n",
      "4  07-03-19   AMZN  1667.37  1669.75  1620.51  1625.95  4957017\n",
      "\n",
      " Thông tin toongr quan của data frame stocks_df sau khi gộp: \n",
      "<class 'pandas.core.frame.DataFrame'>\n",
      "RangeIndex: 25 entries, 0 to 24\n",
      "Data columns (total 7 columns):\n",
      " #   Column  Non-Null Count  Dtype  \n",
      "---  ------  --------------  -----  \n",
      " 0   date    25 non-null     object \n",
      " 1   symbol  25 non-null     object \n",
      " 2   open    25 non-null     float64\n",
      " 3   high    23 non-null     float64\n",
      " 4   low     23 non-null     float64\n",
      " 5   close   25 non-null     float64\n",
      " 6   volume  25 non-null     int64  \n",
      "dtypes: float64(4), int64(1), object(2)\n",
      "memory usage: 1.5+ KB\n",
      "Giá trung bình cho mỗi ngày:\n",
      "             open       high       low    close\n",
      "date                                           \n",
      "01-03-19  684.770  692.52840  680.4460  688.952\n",
      "04-03-19  693.940  702.39200  685.1260  694.510\n",
      "05-03-19  695.664  584.92000  575.0500  695.558\n",
      "06-03-19  696.502  449.53395  443.7725  690.016\n",
      "07-03-19  689.460  691.47800  673.8600  677.494\n"
     ]
    }
   ],
   "source": [
    "path_stocks1=\"D:/17A2KHDL/Lab 3/DATA/stocks2.csv\"\n",
    "stocks2_df=pd.read_csv(path_stocks1)\n",
    "stocks_df = pd.concat([stocks1_df, stocks2_df], ignore_index=True)\n",
    "# hiển thị data frame sau khi gộp \n",
    "print('data frame sau khi gộp :')\n",
    "print (stocks_df.head())\n",
    "print(\"\\n Thông tin toongr quan của data frame stocks_df sau khi gộp: \")\n",
    "stocks_df.info()\n",
    "\n",
    "#3\n",
    "gia_tb_per_day=stocks_df.groupby('date')[['open','high','low','close' ]].mean()\n",
    "#4\n",
    "print(\"Giá trung bình cho mỗi ngày:\")\n",
    "print(gia_tb_per_day.head())"
   ]
  },
  {
   "cell_type": "markdown",
   "metadata": {},
   "source": [
    "## Lab 3.4"
   ]
  },
  {
   "cell_type": "code",
   "execution_count": 12,
   "metadata": {},
   "outputs": [
    {
     "name": "stdout",
     "output_type": "stream",
     "text": [
      "\n",
      "5 dòng đầu tiên của companies:\n",
      "   name  employees headquarters_city headquarters_state\n",
      "0  AMZN     613300           Seattle                 WA\n",
      "1  GOOG      98771     Mountain View                 CA\n",
      "2  AAPL     132000         Cupertino                 CA\n",
      "3    FB      48268        Menlo Park                 CA\n",
      "4  TSLA      48016         Palo Alto                 CA\n",
      "Cột trong DataFrame stocks:\n",
      "Index(['date', 'symbol', 'open', 'high', 'low', 'close', 'volume'], dtype='object')\n",
      "\n",
      "Cột trong DataFrame companies:\n",
      "Index(['name', 'employees', 'headquarters_city', 'headquarters_state'], dtype='object')\n",
      "       date symbol     open     high      low    close   volume  employees  \\\n",
      "0  01-03-19   AMZN  1655.13  1674.26  1651.00  1671.73  4974877     613300   \n",
      "1  04-03-19   AMZN  1685.00  1709.43  1674.36  1696.17  6167358     613300   \n",
      "2  05-03-19   AMZN  1702.95  1707.80  1689.01  1692.43  3681522     613300   \n",
      "3  06-03-19   AMZN  1695.97      NaN      NaN  1668.95  3996001     613300   \n",
      "4  07-03-19   AMZN  1667.37  1669.75  1620.51  1625.95  4957017     613300   \n",
      "\n",
      "  headquarters_city headquarters_state  \n",
      "0           Seattle                 WA  \n",
      "1           Seattle                 WA  \n",
      "2           Seattle                 WA  \n",
      "3           Seattle                 WA  \n",
      "4           Seattle                 WA  \n"
     ]
    }
   ],
   "source": [
    "# 1. Đọc file companies.csv vào DataFrame companies\n",
    "path_companies=\"D:/17A2KHDL/Lab 3/DATA/companies.csv\"\n",
    "companies=pd.read_csv(path_companies)\n",
    "\n",
    "# 2. Hiển thị 5 dòng đầu tiên của companies\n",
    "print(\"\\n5 dòng đầu tiên của companies:\")\n",
    "print(companies.head())\n",
    "\n",
    "#\n",
    "print(\"Cột trong DataFrame stocks:\")\n",
    "print(stocks_df.columns)\n",
    "\n",
    "print(\"\\nCột trong DataFrame companies:\")\n",
    "print(companies.columns)\n",
    "#3 \n",
    "\n",
    "companies.rename(columns={'name': 'symbol'}, inplace=True)\n",
    "stocks = pd.merge(stocks_df, companies, on='symbol', how='inner')\n",
    "print(stocks.head())\n",
    "\n",
    "\n",
    "\n",
    "\n"
   ]
  },
  {
   "cell_type": "markdown",
   "metadata": {},
   "source": [
    "# Lab 3.5"
   ]
  },
  {
   "cell_type": "code",
   "execution_count": 13,
   "metadata": {},
   "outputs": [
    {
     "name": "stdout",
     "output_type": "stream",
     "text": [
      "\n",
      "Kết quả phân tích dữ liệu cho 5 ngày đầu tiên:\n",
      "                    open      high      low    close      volume\n",
      "date     symbol                                                 \n",
      "01-03-19 AAPL     174.28   175.150   172.89   174.97  25886167.0\n",
      "         AMZN    1655.13  1674.260  1651.00  1671.73   4974877.0\n",
      "         FB       162.60   163.132   161.69   162.28  11097770.0\n",
      "         GOOG    1124.90  1142.970  1124.75  1140.99   1450316.0\n",
      "         TSLA     306.94   307.130   291.90   294.79  22911375.0\n"
     ]
    }
   ],
   "source": [
    "# 1. Tạo MultiIndex cho DataFrame stocks bằng cột date và symbol\n",
    "stocks.set_index(['date', 'symbol'], inplace=True)\n",
    "\n",
    "# 2. Sử dụng GroupBy để tính giá và volume trung bình cho mỗi ngày, cho mỗi mã chứng khoán\n",
    "grouped = stocks.groupby(['date', 'symbol']).agg({\n",
    "    'open': 'mean',\n",
    "    'high': 'mean',\n",
    "    'low': 'mean',\n",
    "    'close': 'mean',\n",
    "    'volume': 'mean'\n",
    "})\n",
    "\n",
    "# 3. Sắp xếp dữ liệu theo ngày và mã chứng khoán\n",
    "grouped.sort_index(inplace=True)\n",
    "\n",
    "# 4. Hiển thị kết quả cho 5 ngày đầu tiên\n",
    "print(\"\\nKết quả phân tích dữ liệu cho 5 ngày đầu tiên:\")\n",
    "print(grouped.head(5))\n"
   ]
  },
  {
   "cell_type": "markdown",
   "metadata": {},
   "source": [
    "# lab 3.6\n"
   ]
  },
  {
   "cell_type": "code",
   "execution_count": 14,
   "metadata": {},
   "outputs": [
    {
     "name": "stdout",
     "output_type": "stream",
     "text": [
      "\n",
      "Pivot Table - 5 mã chứng khoán có tổng volume giao dịch cao nhất:\n",
      "symbol      AAPL     AMZN      FB     GOOG    TSLA  Total Volume\n",
      "date                                                            \n",
      "01-03-19  174.97  1671.73  162.28  1140.99  294.79           NaN\n",
      "04-03-19  175.85  1696.17  167.37  1147.80  285.36           NaN\n",
      "05-03-19  175.53  1692.43  171.26  1162.03  276.54           NaN\n",
      "06-03-19  174.52  1668.95  172.51  1157.86  276.24           NaN\n",
      "07-03-19  172.50  1625.95  169.13  1143.30  276.59           NaN\n"
     ]
    }
   ],
   "source": [
    "# 1. Tạo Pivot Table với date làm chỉ mục, symbol làm cột, giá trị trung bình của close làm giá trị\n",
    "pivot_table = stocks.pivot_table(values='close', index='date', columns='symbol', aggfunc='mean')\n",
    "\n",
    "# 2. Thêm cột tính tổng volume giao dịch cho mỗi mã chứng khoán\n",
    "volume_sum = stocks.groupby('symbol')['volume'].sum()\n",
    "pivot_table['Total Volume'] = volume_sum\n",
    "\n",
    "# 3. Sắp xếp Pivot Table dựa trên tổng volume giao dịch\n",
    "pivot_table.sort_values(by='Total Volume', ascending=False, inplace=True)\n",
    "\n",
    "# 4. Hiển thị kết quả cho 5 mã chứng khoán có tổng volume giao dịch cao nhất\n",
    "print(\"\\nPivot Table - 5 mã chứng khoán có tổng volume giao dịch cao nhất:\")\n",
    "print(pivot_table.head(5))"
   ]
  }
 ],
 "metadata": {
  "kernelspec": {
   "display_name": "Python 3",
   "language": "python",
   "name": "python3"
  },
  "language_info": {
   "codemirror_mode": {
    "name": "ipython",
    "version": 3
   },
   "file_extension": ".py",
   "mimetype": "text/x-python",
   "name": "python",
   "nbconvert_exporter": "python",
   "pygments_lexer": "ipython3",
   "version": "3.12.6"
  }
 },
 "nbformat": 4,
 "nbformat_minor": 2
}
