{
 "cells": [
  {
   "cell_type": "markdown",
   "metadata": {},
   "source": [
    "## Câu 1\n"
   ]
  },
  {
   "cell_type": "code",
   "execution_count": 7,
   "metadata": {},
   "outputs": [
    {
     "name": "stdout",
     "output_type": "stream",
     "text": [
      "Nhiệt độ trong tháng \n",
      ": [23.85 16.78 10.65 26.26 16.11 26.21 25.58 23.19 12.84 22.66 29.13 11.43\n",
      " 17.06 21.26 19.31 27.85 11.81 23.86 27.42 26.62 12.07 12.59 26.24 13.15\n",
      " 28.79 16.88 20.96 28.01 19.18 14.68]\n",
      "trung bình nhiệt độ trong tháng là : 20.41433333333333\n"
     ]
    }
   ],
   "source": [
    "import numpy as np \n",
    "nhiet_do=np.round (np.random.uniform(10.0,30.0,size=30),2)\n",
    "print(\"Nhiệt độ trong tháng \\n:\",nhiet_do)\n",
    "print(\"trung bình nhiệt độ trong tháng là :\",np.mean(nhiet_do))"
   ]
  },
  {
   "cell_type": "markdown",
   "metadata": {},
   "source": [
    "## Câu 2 \n"
   ]
  },
  {
   "cell_type": "code",
   "execution_count": 8,
   "metadata": {},
   "outputs": [
    {
     "name": "stdout",
     "output_type": "stream",
     "text": [
      "Nhiệt đô cao nhất trong tháng là : 29.13\n",
      "Nhiệt độ thấp nhất trong tháng là : 10.65\n"
     ]
    }
   ],
   "source": [
    "# Tìm nhiệt độ cao nhất và thấp nhất\n",
    "max_temp=np.max(nhiet_do)\n",
    "min_temp=np.min(nhiet_do)\n",
    "# Xác định ngày có nhiệt độ cao nhất và thấp nhất\n",
    "# Chú ý : Ngày được tính từ 1, không phải 0\n",
    "day_max_temp=np.argmax(nhiet_do)+1\n",
    "day_min_temp=np.argmin(nhiet_do)+1\n",
    "print(f\"Nhiệt đô cao nhất trong tháng là :\",max_temp)\n",
    "print(f\"Nhiệt độ thấp nhất trong tháng là :\",min_temp)"
   ]
  },
  {
   "cell_type": "markdown",
   "metadata": {},
   "source": [
    "## thống kê sự chênh lệch nhiệt độ các ngày\n"
   ]
  },
  {
   "cell_type": "code",
   "execution_count": 10,
   "metadata": {},
   "outputs": [
    {
     "name": "stdout",
     "output_type": "stream",
     "text": [
      "Ngày chênh lệch cao nhất : -17.7\n"
     ]
    }
   ],
   "source": [
    "#Tạo mảng chứa nhiệt độ của ngày hôm trước (trừ ngày cuối cùng)\n",
    "ngay_truoc=nhiet_do[:-1]\n",
    "## Tạo mảng chứa nhiệt độ của ngày hôm sau 9(Trừ ngày đầu tiên )\n",
    "ngay_sau=nhiet_do[1:]\n",
    "# Tính toán sự chênh lệch nhiệt độ của ngày hôm sau và ngày hôm trước\n",
    "chenh_lech=ngay_sau-ngay_truoc\n",
    "# Xác định ngày có sự chệnh lệch nhiệt độ lớn nhất \n",
    "dff_max=np.argmax(np.abs(chenh_lech))+1\n",
    "max_chenh_lech=chenh_lech[dff_max-1]\n",
    "print (\"Ngày chênh lệch cao nhất :\",max_chenh_lech)\n"
   ]
  },
  {
   "cell_type": "markdown",
   "metadata": {},
   "source": [
    "# 3 . Áp dụng fancy indexing "
   ]
  },
  {
   "cell_type": "code",
   "execution_count": 11,
   "metadata": {},
   "outputs": [],
   "source": [
    "## Kiếm tra điều kiện nhiệt độ cao hơn 20 độ c\n",
    "condition = nhiet_do > 20\n",
    "# sử dụng np.where để tìm chỉ số các phần tử thỏa mãn điều kiện \n",
    "indices=np.where(condition)\n",
    "# Lấy chỉ số đầu tiên ( vì np.where trả về tuple)\n",
    "day_indices=indices[0]\n"
   ]
  }
 ],
 "metadata": {
  "kernelspec": {
   "display_name": "Python 3",
   "language": "python",
   "name": "python3"
  },
  "language_info": {
   "codemirror_mode": {
    "name": "ipython",
    "version": 3
   },
   "file_extension": ".py",
   "mimetype": "text/x-python",
   "name": "python",
   "nbconvert_exporter": "python",
   "pygments_lexer": "ipython3",
   "version": "3.12.6"
  }
 },
 "nbformat": 4,
 "nbformat_minor": 2
}
