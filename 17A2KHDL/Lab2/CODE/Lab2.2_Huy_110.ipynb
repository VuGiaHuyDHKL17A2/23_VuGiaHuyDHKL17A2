{
 "cells": [
  {
   "cell_type": "markdown",
   "metadata": {},
   "source": [
    "## Câu 1\n"
   ]
  },
  {
   "cell_type": "code",
   "execution_count": 14,
   "metadata": {},
   "outputs": [
    {
     "data": {
      "text/plain": [
       "[[3.04, 3.39, 6.7],\n",
       " [5.8, 6.41, 6.62],\n",
       " [2.59, 3.57, 9.16],\n",
       " [3.81, 8.78, 9.24],\n",
       " [8.91, 9.64, 6.39]]"
      ]
     },
     "execution_count": 14,
     "metadata": {},
     "output_type": "execute_result"
    }
   ],
   "source": [
    "import csv\n",
    "file_path=\"D:/17A2KHDL/Lab2/DATA/diem_hoc_phan.csv\"\n",
    "data=[]\n",
    "with open (file_path,newline=\"\",encoding='utf-8')as csvfile:\n",
    "    reader=csv.reader(csvfile)\n",
    "    next(reader)\n",
    "    for row in reader:\n",
    "        data.append([float(score)for score in row [2:]])\n",
    "\n",
    "data[:5]"
   ]
  },
  {
   "cell_type": "markdown",
   "metadata": {},
   "source": [
    "## Chuyển đổi data thành mảng numpy"
   ]
  },
  {
   "cell_type": "code",
   "execution_count": 15,
   "metadata": {},
   "outputs": [
    {
     "data": {
      "text/plain": [
       "array([[3.04, 3.39, 6.7 ],\n",
       "       [5.8 , 6.41, 6.62],\n",
       "       [2.59, 3.57, 9.16],\n",
       "       [3.81, 8.78, 9.24],\n",
       "       [8.91, 9.64, 6.39]])"
      ]
     },
     "execution_count": 15,
     "metadata": {},
     "output_type": "execute_result"
    }
   ],
   "source": [
    "import numpy as np \n",
    "diem_np_array=np.array(data)\n",
    "diem_np_array[:5]"
   ]
  },
  {
   "cell_type": "markdown",
   "metadata": {},
   "source": []
  },
  {
   "cell_type": "markdown",
   "metadata": {},
   "source": [
    "### Câu 2 : Qui điểm từ thang điểm 10 sang điểm tín chỉ\n"
   ]
  },
  {
   "cell_type": "code",
   "execution_count": 16,
   "metadata": {},
   "outputs": [
    {
     "data": {
      "text/plain": [
       "array([['F', 'F', 'C+'],\n",
       "       ['C', 'C', 'C+'],\n",
       "       ['F', 'F', 'A'],\n",
       "       ['F', 'A', 'A'],\n",
       "       ['A', 'A', 'C']], dtype='<U2')"
      ]
     },
     "execution_count": 16,
     "metadata": {},
     "output_type": "execute_result"
    }
   ],
   "source": [
    "def chuyen_diem(score):\n",
    "\n",
    "        if 8.5 <= score <= 10:\n",
    "            return 'A'\n",
    "        elif 8.0 <= score < 8.5:\n",
    "            return 'B+'\n",
    "        elif 7.0 <= score < 8.0:\n",
    "            return'B'\n",
    "        elif 6.5 <= score < 7.0:\n",
    "            return'C+'\n",
    "        elif 5.5 <= score < 6.5:\n",
    "            return'C'\n",
    "        elif 5.0 <= score < 5.5:\n",
    "            return'D+'\n",
    "        elif 4.0 <= score < 5.0:\n",
    "            return'D'\n",
    "        else:\n",
    "            return'F'\n",
    "\n",
    "# Áp dụng hàm quy đổi cho mỗi điểm \n",
    "diem_converted=np.vectorize(chuyen_diem)(diem_np_array)\n",
    "diem_converted[:5]"
   ]
  },
  {
   "cell_type": "markdown",
   "metadata": {},
   "source": [
    "### Câu 3 : Chia tách dữ liệu để phân tích \n"
   ]
  },
  {
   "cell_type": "code",
   "execution_count": 17,
   "metadata": {},
   "outputs": [
    {
     "name": "stdout",
     "output_type": "stream",
     "text": [
      "Dữ liệu học phần 1 : [3.04 5.8  2.59 3.81 8.91 3.23 2.35 2.48 3.23 7.02 2.29 3.51 6.74 9.86\n",
      " 8.04 2.74 3.04 5.87 8.46 3.74 5.67 8.12 9.4  3.91 4.26 4.41 3.23 9.25\n",
      " 6.08 3.85]\n",
      "Dữ liệu học phần 2 : [3.39 6.41 3.57 8.78 9.64 4.72 3.29 3.81 2.61 9.01 4.48 7.19 7.78 4.64\n",
      " 5.12 8.88 6.88 4.41 2.63 6.71 8.05 2.46 5.31 5.09 5.78 2.66 8.3  8.29\n",
      " 2.67 7.71]\n",
      "Dữ liệu học phần 3 : [6.7  6.62 9.16 9.24 6.39 6.17 6.89 4.84 4.52 9.15 5.51 5.13 6.19 3.33\n",
      " 4.77 5.8  3.91 8.84 4.91 3.44 6.03 3.87 5.13 8.82 8.14 5.4  8.64 9.1\n",
      " 6.39 5.75]\n"
     ]
    }
   ],
   "source": [
    "hp1_scores = diem_np_array[:,0]\n",
    "hp2_scores = diem_np_array[:,1]\n",
    "hp3_scores = diem_np_array[:,2]\n",
    "\n",
    "print (\"Dữ liệu học phần 1 :\",hp1_scores)\n",
    "print (\"Dữ liệu học phần 2 :\",hp2_scores)\n",
    "print (\"Dữ liệu học phần 3 :\",hp3_scores)"
   ]
  },
  {
   "cell_type": "markdown",
   "metadata": {},
   "source": [
    "## Phân tích điểm dữ liệu điểm số cho mỗi học phần "
   ]
  },
  {
   "cell_type": "code",
   "execution_count": 18,
   "metadata": {},
   "outputs": [],
   "source": [
    "hp1_stats=(np.sum(hp1_scores),np.mean(hp1_scores),np.std(hp1_scores))\n",
    "hp2_stats=(np.sum(hp2_scores),np.mean(hp2_scores),np.std(hp2_scores))\n",
    "hp3_stats=(np.sum(hp3_scores),np.mean(hp3_scores),np.std(hp3_scores))"
   ]
  },
  {
   "cell_type": "markdown",
   "metadata": {},
   "source": [
    "## Báo kết quả in ra màn hình \n"
   ]
  },
  {
   "cell_type": "code",
   "execution_count": 19,
   "metadata": {},
   "outputs": [
    {
     "name": "stdout",
     "output_type": "stream",
     "text": [
      "Học phần 1 :\n",
      "Tổng điểm 154.93\n",
      "Điểm trung bình :5.16\n",
      "Độ lệch chuẩn :2.41\n",
      "\n",
      "Học phần 2:\n",
      "Tổng điểm 170.27\n",
      "Điểm trung bình :5.68\n",
      "Độ lệch chuẩn :2.25\n",
      "\n",
      "Học phần 3 :\n",
      "Tổng điểm 188.78\n",
      "Điểm trung bình :6.29\n",
      "Độ lệch chuẩn :1.81\n"
     ]
    }
   ],
   "source": [
    "print (\"Học phần 1 :\")\n",
    "print (f\"Tổng điểm {hp1_stats[0]:.2f}\")\n",
    "print (f\"Điểm trung bình :{hp1_stats[1]:.2f}\")\n",
    "print (f\"Độ lệch chuẩn :{hp1_stats[2]:.2f}\")\n",
    "\n",
    "print (\"\\nHọc phần 2:\")\n",
    "print (f\"Tổng điểm {hp2_stats[0]:.2f}\")\n",
    "print (f\"Điểm trung bình :{hp2_stats[1]:.2f}\")\n",
    "print (f\"Độ lệch chuẩn :{hp2_stats[2]:.2f}\")\n",
    "\n",
    "print (\"\\nHọc phần 3 :\")\n",
    "print (f\"Tổng điểm {hp3_stats[0]:.2f}\")\n",
    "print (f\"Điểm trung bình :{hp3_stats[1]:.2f}\")\n",
    "print (f\"Độ lệch chuẩn :{hp3_stats[2]:.2f}\")"
   ]
  },
  {
   "cell_type": "markdown",
   "metadata": {},
   "source": [
    "## câu 4 : Phân tích tổng , trung bình và độ lệch chuẩn cho toàn bộ điểm số của lớp\n"
   ]
  },
  {
   "cell_type": "code",
   "execution_count": 20,
   "metadata": {},
   "outputs": [
    {
     "data": {
      "text/plain": [
       "(np.float64(513.98),\n",
       " np.float64(5.710888888888889),\n",
       " np.float64(2.2185594146975665))"
      ]
     },
     "execution_count": 20,
     "metadata": {},
     "output_type": "execute_result"
    }
   ],
   "source": [
    "tong_diem_all=np.sum(diem_np_array)\n",
    "diem_tb_all=np.mean(diem_np_array)\n",
    "std_devlation_all=np.std(diem_np_array)\n",
    "tong_diem_all,diem_tb_all,std_devlation_all"
   ]
  },
  {
   "cell_type": "markdown",
   "metadata": {},
   "source": []
  }
 ],
 "metadata": {
  "kernelspec": {
   "display_name": "Python 3",
   "language": "python",
   "name": "python3"
  },
  "language_info": {
   "codemirror_mode": {
    "name": "ipython",
    "version": 3
   },
   "file_extension": ".py",
   "mimetype": "text/x-python",
   "name": "python",
   "nbconvert_exporter": "python",
   "pygments_lexer": "ipython3",
   "version": "3.12.6"
  }
 },
 "nbformat": 4,
 "nbformat_minor": 2
}
