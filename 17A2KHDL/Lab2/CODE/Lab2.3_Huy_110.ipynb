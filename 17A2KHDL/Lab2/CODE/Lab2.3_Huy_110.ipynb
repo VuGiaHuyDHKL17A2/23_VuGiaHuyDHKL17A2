{
 "cells": [
  {
   "cell_type": "markdown",
   "metadata": {},
   "source": [
    "## Câu 1 : đọc dữ liệu tử tập tin "
   ]
  },
  {
   "cell_type": "code",
   "execution_count": 1,
   "metadata": {},
   "outputs": [
    {
     "data": {
      "text/plain": [
       "([94.0, 97.0, 114.0, 117.0, 117.0],\n",
       " ['Afternoon', 'Afternoon', 'Afternoon', 'Morning', 'Afternoon'])"
      ]
     },
     "execution_count": 1,
     "metadata": {},
     "output_type": "execute_result"
    }
   ],
   "source": [
    "path_1=\"D:/17A2KHDL/Lab2/DATA/efficiency.txt\"\n",
    "path_2=\"D:/17A2KHDL/Lab2/DATA/shifts.txt\"\n",
    "efficiency=[]\n",
    "with open (path_1,'r')as file :\n",
    "    for line in file:\n",
    "        efficiency.append(float(line.strip()))\n",
    "\n",
    "shifts=[]\n",
    "with open (path_2,'r')as file :\n",
    "    for line in file:\n",
    "        shifts.append(line.strip())\n",
    "efficiency[:5],shifts[:5]"
   ]
  },
  {
   "cell_type": "markdown",
   "metadata": {},
   "source": [
    "#### Câu 2 \n"
   ]
  },
  {
   "cell_type": "code",
   "execution_count": 2,
   "metadata": {},
   "outputs": [
    {
     "data": {
      "text/plain": [
       "dtype('<U9')"
      ]
     },
     "execution_count": 2,
     "metadata": {},
     "output_type": "execute_result"
    }
   ],
   "source": [
    "import numpy as np \n",
    "np_shifts=np.array(shifts)\n",
    "np_shifts.dtype"
   ]
  },
  {
   "cell_type": "markdown",
   "metadata": {},
   "source": [
    "## Câu 3 \n"
   ]
  },
  {
   "cell_type": "code",
   "execution_count": 3,
   "metadata": {},
   "outputs": [
    {
     "data": {
      "text/plain": [
       "dtype('float64')"
      ]
     },
     "execution_count": 3,
     "metadata": {},
     "output_type": "execute_result"
    }
   ],
   "source": [
    "np_effiency =np.array(efficiency)\n",
    "np_effiency.dtype"
   ]
  },
  {
   "cell_type": "markdown",
   "metadata": {},
   "source": [
    "## Câu 4 "
   ]
  },
  {
   "cell_type": "code",
   "execution_count": 4,
   "metadata": {},
   "outputs": [
    {
     "data": {
      "text/plain": [
       "np.float64(96.8529411764706)"
      ]
     },
     "execution_count": 4,
     "metadata": {},
     "output_type": "execute_result"
    }
   ],
   "source": [
    "morning_mask=np_shifts=='Morning'\n",
    "hieu_suat_morning=np_effiency[morning_mask]\n",
    "hieu_suat_TB_morning=np.mean(hieu_suat_morning)\n",
    "hieu_suat_TB_morning"
   ]
  },
  {
   "cell_type": "markdown",
   "metadata": {},
   "source": [
    "# câu 5\n"
   ]
  },
  {
   "cell_type": "code",
   "execution_count": 5,
   "metadata": {},
   "outputs": [
    {
     "data": {
      "text/plain": [
       "np.float64(98.93939393939394)"
      ]
     },
     "execution_count": 5,
     "metadata": {},
     "output_type": "execute_result"
    }
   ],
   "source": [
    "non_morning=np_shifts !='Morning'\n",
    "hieu_suat_non_morning=np_effiency[non_morning]\n",
    "hieu_suat_TB_non_morning=np.mean(hieu_suat_non_morning)\n",
    "hieu_suat_TB_non_morning"
   ]
  },
  {
   "cell_type": "markdown",
   "metadata": {},
   "source": [
    "# Câu 6\n"
   ]
  },
  {
   "cell_type": "code",
   "execution_count": 6,
   "metadata": {},
   "outputs": [
    {
     "data": {
      "text/plain": [
       "array([('Afternoon',  94.), ('Afternoon',  97.), ('Afternoon', 114.),\n",
       "       ('Morning', 117.), ('Afternoon', 117.)],\n",
       "      dtype=[('shift', '<U10'), ('efficiency', '<f8')])"
      ]
     },
     "execution_count": 6,
     "metadata": {},
     "output_type": "execute_result"
    }
   ],
   "source": [
    "dtype =[(\"shift\",'U10'),(\"efficiency\",float)]\n",
    "workers=np.array(list(zip(shifts,efficiency)),dtype=dtype)\n",
    "workers[:5]\n"
   ]
  },
  {
   "cell_type": "markdown",
   "metadata": {},
   "source": [
    "# câu 7 \n"
   ]
  },
  {
   "cell_type": "code",
   "execution_count": 7,
   "metadata": {},
   "outputs": [
    {
     "name": "stdout",
     "output_type": "stream",
     "text": [
      "Danh sách workers sau khi sắp xếp theo efficiency:\n",
      "('Night', 149.0)\n",
      "('Afternoon', 149.0)\n",
      "('Morning', 149.0)\n",
      "('Morning', 141.0)\n",
      "('Morning', 138.0)\n",
      "('Afternoon', 138.0)\n",
      "('Morning', 138.0)\n",
      "('Afternoon', 138.0)\n",
      "('Morning', 137.0)\n",
      "('Afternoon', 137.0)\n",
      "('Afternoon', 135.0)\n",
      "('Morning', 134.0)\n",
      "('Morning', 133.0)\n",
      "('Night', 132.0)\n",
      "('Afternoon', 132.0)\n",
      "('Night', 131.0)\n",
      "('Night', 130.0)\n",
      "('Night', 129.0)\n",
      "('Morning', 129.0)\n",
      "('Afternoon', 129.0)\n",
      "('Afternoon', 128.0)\n",
      "('Night', 127.0)\n",
      "('Afternoon', 126.0)\n",
      "('Morning', 125.0)\n",
      "('Afternoon', 125.0)\n",
      "('Night', 124.0)\n",
      "('Afternoon', 122.0)\n",
      "('Night', 120.0)\n",
      "('Night', 119.0)\n",
      "('Afternoon', 118.0)\n",
      "('Afternoon', 118.0)\n",
      "('Morning', 117.0)\n",
      "('Afternoon', 117.0)\n",
      "('Afternoon', 115.0)\n",
      "('Morning', 115.0)\n",
      "('Morning', 115.0)\n",
      "('Afternoon', 114.0)\n",
      "('Afternoon', 114.0)\n",
      "('Night', 108.0)\n",
      "('Night', 108.0)\n",
      "('Morning', 108.0)\n",
      "('Night', 107.0)\n",
      "('Afternoon', 107.0)\n",
      "('Morning', 105.0)\n",
      "('Night', 103.0)\n",
      "('Afternoon', 103.0)\n",
      "('Night', 102.0)\n",
      "('Night', 99.0)\n",
      "('Afternoon', 98.0)\n",
      "('Afternoon', 97.0)\n",
      "('Morning', 97.0)\n",
      "('Morning', 97.0)\n",
      "('Afternoon', 96.0)\n",
      "('Morning', 96.0)\n",
      "('Afternoon', 94.0)\n",
      "('Morning', 92.0)\n",
      "('Morning', 92.0)\n",
      "('Morning', 91.0)\n",
      "('Morning', 89.0)\n",
      "('Morning', 89.0)\n",
      "('Afternoon', 88.0)\n",
      "('Night', 87.0)\n",
      "('Night', 86.0)\n",
      "('Night', 86.0)\n",
      "('Morning', 85.0)\n",
      "('Night', 85.0)\n",
      "('Night', 84.0)\n",
      "('Night', 82.0)\n",
      "('Morning', 82.0)\n",
      "('Night', 81.0)\n",
      "('Night', 81.0)\n",
      "('Afternoon', 79.0)\n",
      "('Afternoon', 78.0)\n",
      "('Night', 75.0)\n",
      "('Night', 73.0)\n",
      "('Morning', 73.0)\n",
      "('Afternoon', 71.0)\n",
      "('Night', 70.0)\n",
      "('Afternoon', 70.0)\n",
      "('Morning', 69.0)\n",
      "('Night', 69.0)\n",
      "('Morning', 67.0)\n",
      "('Afternoon', 65.0)\n",
      "('Night', 64.0)\n",
      "('Afternoon', 64.0)\n",
      "('Night', 63.0)\n",
      "('Night', 62.0)\n",
      "('Morning', 62.0)\n",
      "('Morning', 61.0)\n",
      "('Night', 59.0)\n",
      "('Night', 59.0)\n",
      "('Morning', 59.0)\n",
      "('Night', 56.0)\n",
      "('Night', 55.0)\n",
      "('Morning', 54.0)\n",
      "('Morning', 53.0)\n",
      "('Morning', 51.0)\n",
      "('Morning', 50.0)\n",
      "('Afternoon', 50.0)\n",
      "('Night', 50.0)\n",
      "\n",
      "Ca làm việc có hiệu suất cao nhất:\n",
      "('Night', 149.0)\n",
      "\n",
      "Ca làm việc có hiệu suất thấp nhất:\n",
      "('Night', 50.0)\n"
     ]
    }
   ],
   "source": [
    "sorted_workers = sorted(workers, key=lambda x: x['efficiency'], reverse=True)\n",
    "\n",
    "highest_efficiency = sorted_workers[0]\n",
    "lowest_efficiency = sorted_workers[-1]\n",
    "\n",
    "print(\"Danh sách workers sau khi sắp xếp theo efficiency:\")\n",
    "for worker in sorted_workers:\n",
    "    print(worker)\n",
    "\n",
    "print(\"\\nCa làm việc có hiệu suất cao nhất:\")\n",
    "print(highest_efficiency)\n",
    "\n",
    "print(\"\\nCa làm việc có hiệu suất thấp nhất:\")\n",
    "print(lowest_efficiency)"
   ]
  },
  {
   "cell_type": "markdown",
   "metadata": {},
   "source": []
  }
 ],
 "metadata": {
  "kernelspec": {
   "display_name": "Python 3",
   "language": "python",
   "name": "python3"
  },
  "language_info": {
   "codemirror_mode": {
    "name": "ipython",
    "version": 3
   },
   "file_extension": ".py",
   "mimetype": "text/x-python",
   "name": "python",
   "nbconvert_exporter": "python",
   "pygments_lexer": "ipython3",
   "version": "3.12.6"
  }
 },
 "nbformat": 4,
 "nbformat_minor": 2
}
